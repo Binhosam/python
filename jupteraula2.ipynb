{
 "cells": [
  {
   "cell_type": "code",
   "execution_count": null,
   "metadata": {},
   "outputs": [],
   "source": [
    "import pandas as pd\n",
    "import plotly.express as px\n",
    "import nbformat\n"
   ]
  },
  {
   "cell_type": "code",
   "execution_count": null,
   "metadata": {},
   "outputs": [],
   "source": [
    "# Passo 1:\n",
    "tabela = pd.read_csv(\"telecom_users.csv\")\n",
    "# Passo 2:\n",
    "# para retirar uma coluna precisamos informar qual é a coluna e infomar se é a linha ou a coluna\n",
    "#axis 0 -> linha axis = 1 -> coluna\n",
    "tabela = tabela.drop('Unnamed: 0',1)\n",
    "display(tabela)"
   ]
  },
  {
   "cell_type": "code",
   "execution_count": null,
   "metadata": {},
   "outputs": [],
   "source": [
    "# Passo 3: Tratamento de dados\n",
    "# Os valores são reconhecidos da forma correta?\n",
    "# Valores vazios\n",
    "\n",
    "print(tabela.info())\n",
    "\n",
    "# Mostra quantas colunas, quantas informações existe na coluna, Dtype: qual tipo de do dado que tem na coluna\n",
    "# Exemplo : TotalGasto  5986 non-null   object // a coluna total gasto é reconhecida como um texto\n",
    "# Esse dado precisa ser tratado\n",
    "# 4   Dependentes             5985 non-null   object\n",
    "# a coluna Dependentes esta com um campo vazio"
   ]
  },
  {
   "cell_type": "code",
   "execution_count": null,
   "metadata": {},
   "outputs": [],
   "source": [
    "# Tratamento de dados\n",
    "tabela['TotalGasto'] = pd.to_numeric(tabela['TotalGasto'], errors=\"coerce\")\n",
    "# em Tabela: Coluna total gasto = pd.to_numeric(Na tabela['TotalGasto'], se tiver dados não numericos errors=\"coerce\")\n",
    "# antes tratamento:  19  TotalGasto              5986 non-null   object \n",
    "# após tratamento :  19  TotalGasto 5976 non-null   float64\n",
    "display(tabela.info())"
   ]
  },
  {
   "cell_type": "code",
   "execution_count": null,
   "metadata": {},
   "outputs": [],
   "source": [
    "# Tratamento de valores vazios\n",
    "# A função .dropna deleta linhas e colunas vazias\n",
    "# how:\"Any\" or \"all\"     coluna axis = 1\n",
    "# Tratamento de colunas vazias\n",
    "tabela = tabela.dropna(how=\"all\",axis=1)\n",
    "# Tratamento de linhas com pelo menos um valor vazias\n",
    "tabela = tabela.dropna(how=\"any\",axis=0)\n",
    "\n",
    "# Data = 21 antes de tratamento de dados\n",
    "# Data = 20 após tratamento de dados\n",
    "display(tabela.info())"
   ]
  },
  {
   "cell_type": "code",
   "execution_count": null,
   "metadata": {},
   "outputs": [],
   "source": [
    "# Passo 4: Analise Inicial ( Entender como estão os cancelamento )\n",
    "print(tabela[\"Churn\"].value_counts())\n",
    "print(20*\"-\")\n",
    "print(tabela[\"Churn\"].value_counts(normalize=True)*100) # Normalize = True (mostra o percentual)\n",
    "print(20*\"-\")\n",
    "print(tabela[\"Churn\"].value_counts(normalize=True).map(\"{:.1%}\".format)) # outra forma para formatação\n"
   ]
  },
  {
   "cell_type": "code",
   "execution_count": null,
   "metadata": {},
   "outputs": [],
   "source": [
    "# Passo 5: Análise Completa dos dados\n",
    "# Cruzamento da coluna cancelamento com as demais colunas do nosso grafico\n",
    "\n",
    "# Para criar graficos:\n",
    "# matplotlib\n",
    "# seaborn\n",
    "# plotly\n",
    "# criar o grafico"
   ]
  },
  {
   "cell_type": "code",
   "execution_count": null,
   "metadata": {},
   "outputs": [],
   "source": [
    "grafico = px.histogram(tabela, x=\"Casado\",color=\"Churn\")\n",
    "display(grafico)\n",
    "# Exibir o grafico"
   ]
  },
  {
   "cell_type": "code",
   "execution_count": null,
   "metadata": {},
   "outputs": [],
   "source": [
    "for coluna in tabela.columns:\n",
    "    grafico = px.histogram(tabela, x=coluna,color=\"Churn\")\n",
    "    display(grafico)"
   ]
  }
 ],
 "metadata": {
  "kernelspec": {
   "display_name": "Python 3.10.7 ('intensivao': venv)",
   "language": "python",
   "name": "python3"
  },
  "language_info": {
   "codemirror_mode": {
    "name": "ipython",
    "version": 3
   },
   "file_extension": ".py",
   "mimetype": "text/x-python",
   "name": "python",
   "nbconvert_exporter": "python",
   "pygments_lexer": "ipython3",
   "version": "3.10.7"
  },
  "orig_nbformat": 4,
  "vscode": {
   "interpreter": {
    "hash": "60ee1f6bc0557afa87102e23a1991fbccca04dfee5e37d34272144ab2c596565"
   }
  }
 },
 "nbformat": 4,
 "nbformat_minor": 2
}
